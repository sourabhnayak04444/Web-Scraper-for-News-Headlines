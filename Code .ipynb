{
  "nbformat": 4,
  "nbformat_minor": 0,
  "metadata": {
    "colab": {
      "private_outputs": true,
      "provenance": [],
      "gpuType": "T4",
      "authorship_tag": "ABX9TyPDRtB2ewnvvtnV4tRqejOb",
      "include_colab_link": true
    },
    "kernelspec": {
      "name": "python3",
      "display_name": "Python 3"
    },
    "language_info": {
      "name": "python"
    },
    "accelerator": "GPU"
  },
  "cells": [
    {
      "cell_type": "markdown",
      "metadata": {
        "id": "view-in-github",
        "colab_type": "text"
      },
      "source": [
        "<a href=\"https://colab.research.google.com/github/sourabhnayak04444/Web-Scraper-for-News-Headlines/blob/main/Code%20.ipynb\" target=\"_parent\"><img src=\"https://colab.research.google.com/assets/colab-badge.svg\" alt=\"Open In Colab\"/></a>"
      ]
    },
    {
      "cell_type": "code",
      "execution_count": null,
      "metadata": {
        "id": "AhzQrNpwdYQa"
      },
      "outputs": [],
      "source": [
        "!pip install requests beautifulsoup4\n",
        "\n",
        "import requests\n",
        "from bs4 import BeautifulSoup\n",
        "\n",
        "url = \"https://timesofindia.indiatimes.com/home/headlines\"\n",
        "response = requests.get(url)\n",
        "\n",
        "if response.status_code == 200:\n",
        "    print(\"Page fetched successfully!\")\n",
        "else:\n",
        "    print(\"Failed to retrieve page:\", response.status_code)\n",
        "\n",
        "soup = BeautifulSoup(response.text, \"html.parser\")\n",
        "\n",
        "headlines = []\n",
        "\n",
        "for item in soup.find_all(\"span\", class_=\"w_tle\"):\n",
        "    title = item.get_text(strip=True)\n",
        "    if title:\n",
        "        headlines.append(title)\n",
        "\n",
        "print(\"\\n Top 10 Times of India Headlines:\\n\")\n",
        "for i, headline in enumerate(headlines[:10], 1):\n",
        "    print(f\"{i}. {headline}\")\n",
        "\n",
        "with open(\"toi_headlines.txt\", \"w\", encoding=\"utf-8\") as f:\n",
        "    for headline in headlines:\n",
        "        f.write(headline + \"\\n\")\n",
        "\n",
        "print(\"\\n All headlines saved to 'toi_headlines.txt'\")\n",
        "from google.colab import files\n",
        "files.download(\"toi_headlines.txt\")\n",
        "\n"
      ]
    },
    {
      "cell_type": "code",
      "source": [],
      "metadata": {
        "id": "YVyAuE_U8Eeb"
      },
      "execution_count": null,
      "outputs": []
    }
  ]
}